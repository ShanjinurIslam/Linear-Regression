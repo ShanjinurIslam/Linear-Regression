{
 "cells": [
  {
   "cell_type": "code",
   "execution_count": 188,
   "metadata": {},
   "outputs": [],
   "source": [
    "import numpy as np\n",
    "import sys\n",
    "\n",
    "np.random.seed(40)"
   ]
  },
  {
   "cell_type": "code",
   "execution_count": 189,
   "metadata": {},
   "outputs": [],
   "source": [
    "file = open(\"x07.txt\")\n",
    "learning_rate = 0.05\n",
    "max_iterations = 10000\n",
    "error = sys.maxsize"
   ]
  },
  {
   "cell_type": "code",
   "execution_count": 190,
   "metadata": {},
   "outputs": [],
   "source": [
    "lines = file.readlines()\n",
    "\n",
    "X = []\n",
    "Y = []\n",
    "\n",
    "for line in lines:\n",
    "    var = line.split()\n",
    "    var = [float(var[i]) for i in range(1,len(var)) ] \n",
    "    X.append([var[i] for i in range(len(var)-1)])\n",
    "    Y.append(var[1])"
   ]
  },
  {
   "cell_type": "code",
   "execution_count": 191,
   "metadata": {},
   "outputs": [],
   "source": [
    "X = np.array(X)\n",
    "Y = np.array(Y)"
   ]
  },
  {
   "cell_type": "code",
   "execution_count": 192,
   "metadata": {},
   "outputs": [],
   "source": [
    "w = np.random.uniform(0,1,(X.shape[1]))"
   ]
  },
  {
   "cell_type": "code",
   "execution_count": 193,
   "metadata": {},
   "outputs": [
    {
     "name": "stdout",
     "output_type": "stream",
     "text": [
      "769\n",
      "[0.01226834 0.99447752]\n"
     ]
    }
   ],
   "source": [
    "for i in range(max_iterations):\n",
    "    new_error = np.sum((Y-np.dot(X,w))**2)\n",
    "    if (new_error<error):\n",
    "        error = new_error\n",
    "        learning_rate = learning_rate*1.05\n",
    "    else:\n",
    "        error = new_error\n",
    "        learning_rate = learning_rate*0.5\n",
    "    \n",
    "    w = w - learning_rate*(-(np.dot(X.transpose(),Y) - np.dot(np.dot(X.transpose(),X),w)))\n",
    "    if error<0.001:\n",
    "        break\n",
    "print(w)"
   ]
  },
  {
   "cell_type": "code",
   "execution_count": null,
   "metadata": {},
   "outputs": [],
   "source": []
  }
 ],
 "metadata": {
  "kernelspec": {
   "display_name": "Python 3",
   "language": "python",
   "name": "python3"
  },
  "language_info": {
   "codemirror_mode": {
    "name": "ipython",
    "version": 3
   },
   "file_extension": ".py",
   "mimetype": "text/x-python",
   "name": "python",
   "nbconvert_exporter": "python",
   "pygments_lexer": "ipython3",
   "version": "3.7.4"
  }
 },
 "nbformat": 4,
 "nbformat_minor": 2
}
